{
  "nbformat": 4,
  "nbformat_minor": 0,
  "metadata": {
    "colab": {
      "provenance": []
    },
    "kernelspec": {
      "name": "python3",
      "display_name": "Python 3"
    },
    "language_info": {
      "name": "python"
    }
  },
  "cells": [
    {
      "cell_type": "markdown",
      "source": [
        "# Uso de ML para problemas de clasificación\n",
        "\n",
        "En este notebook revisaremos un ejemplo de proceso de entrenamiento de un modelo de aprendizaje automático para resolver un problema de clasificación."
      ],
      "metadata": {
        "id": "R86NRtpLqrPb"
      }
    },
    {
      "cell_type": "markdown",
      "source": [
        "## 0. Entendimiento previo\n",
        "\n",
        "* ¿De dónde obtengo el dataset?\n",
        "* ¿Qué predicciones queremos hacer con este dataset?"
      ],
      "metadata": {
        "id": "71SsLjjyrArK"
      }
    },
    {
      "cell_type": "markdown",
      "source": [
        "## 1. Cargar datos\n",
        "\n",
        "Puntos relevantes:\n",
        "* ¿Dónde están los datos?\n",
        "* ¿En qué formato?\n",
        "* ¿Cómo los puede leer?\n"
      ],
      "metadata": {
        "id": "qKcRonBhoPe1"
      }
    },
    {
      "cell_type": "code",
      "source": [
        "# Tu código aquí"
      ],
      "metadata": {
        "id": "FjSqx1uSwvl5"
      },
      "execution_count": null,
      "outputs": []
    },
    {
      "cell_type": "markdown",
      "source": [
        "## 2. Análisis exploratorio\n",
        "\n",
        "Puntos relevantes:\n",
        "\n",
        "* ¿Cuántos datos tenemos?\n",
        "* ¿Qué y cuántos campos tenemos?\n",
        "* ¿Qué tipo de información contiene cada campo?\n",
        "* ¿Qué tan \"limpios\" están los datos?\n",
        "* ¿Qué rango de valores tiene cada campo?\n",
        "\n",
        "NOTA: Justifica o argumenta con visualizaciones básicas"
      ],
      "metadata": {
        "id": "lBOsJ5rVoTQw"
      }
    },
    {
      "cell_type": "code",
      "source": [
        "# Tu código aquí"
      ],
      "metadata": {
        "id": "kY12_t8nxD2U"
      },
      "execution_count": null,
      "outputs": []
    },
    {
      "cell_type": "markdown",
      "source": [
        "## 3. Preprocesamiento\n",
        "\n",
        "Puntos relevantes:\n",
        "\n",
        "* ¿Qué información es relevante conservar?\n",
        "* ¿Qué campo(s) son las variables de entrada?\n",
        "* ¿Cuál campo es la variable de salida o etiqueta?"
      ],
      "metadata": {
        "id": "4i00mtx4oXcz"
      }
    },
    {
      "cell_type": "code",
      "source": [
        "# Tu código aquí"
      ],
      "metadata": {
        "id": "jTYhadV-xFP5"
      },
      "execution_count": null,
      "outputs": []
    },
    {
      "cell_type": "markdown",
      "source": [
        "### 3.1 Selección de características\n",
        "\n",
        "* Vamos a quitar columnas que no parecen útiles.\n",
        "* Vamos a seleccionar las columnas que podemos usar para hacer predicciones."
      ],
      "metadata": {
        "id": "S4onrDgqpFMX"
      }
    },
    {
      "cell_type": "code",
      "source": [
        "# Tu código aquí\n"
      ],
      "metadata": {
        "id": "4_MDAC1sxGVY"
      },
      "execution_count": null,
      "outputs": []
    },
    {
      "cell_type": "markdown",
      "source": [
        "### 3.2 Acomodo de columnas\n",
        "\n",
        "* Vamos a separar la parte del dataframe que utilizaremos como variables de entrada (X) y las etiquetas (y)"
      ],
      "metadata": {
        "id": "HUn4Lc-sqY-r"
      }
    },
    {
      "cell_type": "code",
      "source": [
        "# Tu código aquí"
      ],
      "metadata": {
        "id": "BlQwDZ42xJV9"
      },
      "execution_count": null,
      "outputs": []
    },
    {
      "cell_type": "markdown",
      "source": [
        "## 4. Entrenamiento de modelos\n",
        "\n",
        "Puntos relevantes:\n",
        "* ¿Cómo vamos a separar el dataset?\n",
        "* ¿Es necesario normalizar? ¿Qué tipo de normalización?\n",
        "* ¿Qué modelos vamos a probar?"
      ],
      "metadata": {
        "id": "TFRU_lx1GBTm"
      }
    },
    {
      "cell_type": "code",
      "source": [
        "# Tu código aquí"
      ],
      "metadata": {
        "id": "7iP1ND-hxKjI"
      },
      "execution_count": null,
      "outputs": []
    },
    {
      "cell_type": "markdown",
      "source": [
        "### 4.1 Generación de dataset de entrenamiento y prueba (train/test)"
      ],
      "metadata": {
        "id": "P0wGlzAIGFr9"
      }
    },
    {
      "cell_type": "markdown",
      "source": [
        "### 4.2 Normalizar (Escalar) datos de entrenamiento\n",
        "\n",
        "**IMPORTANTE**: Ajustar la normalización en los datos de entrenamiento, NO en los datos de prueba."
      ],
      "metadata": {
        "id": "OJSaXLvgwYW_"
      }
    },
    {
      "cell_type": "markdown",
      "source": [
        "#### 4.2.1 Normalización"
      ],
      "metadata": {
        "id": "SgP-MpRlyR6p"
      }
    },
    {
      "cell_type": "code",
      "source": [
        "# Tu código aquí"
      ],
      "metadata": {
        "id": "RwQdFbtrxNkC"
      },
      "execution_count": null,
      "outputs": []
    },
    {
      "cell_type": "markdown",
      "source": [
        "### 4.3 Entrenar modelos base"
      ],
      "metadata": {
        "id": "2H7ipkMiI67c"
      }
    },
    {
      "cell_type": "code",
      "source": [
        "# Tu código aquí"
      ],
      "metadata": {
        "id": "RbKsl_kxxPEt"
      },
      "execution_count": null,
      "outputs": []
    },
    {
      "cell_type": "markdown",
      "source": [
        "## 5. Evaluación del modelo\n",
        "\n",
        "Puntos importantes:\n",
        "* ¿Qué métricas nos conviene utilizar?\n",
        "* ¿Qué desempeño necesitamos alcanzar?\n",
        "* ¿Cuál métrica es prioridad?"
      ],
      "metadata": {
        "id": "pzvbOzPgKlPk"
      }
    },
    {
      "cell_type": "code",
      "source": [
        "# Tu código aquí"
      ],
      "metadata": {
        "id": "mr2HfbhIxQcI"
      },
      "execution_count": null,
      "outputs": []
    },
    {
      "cell_type": "markdown",
      "source": [
        "### 5.1 Evaluación con datos de entrenamiento"
      ],
      "metadata": {
        "id": "ZdjYm0uwQb9T"
      }
    },
    {
      "cell_type": "code",
      "source": [
        "# Tu código aquí"
      ],
      "metadata": {
        "id": "d3O3xZdZxRkF"
      },
      "execution_count": null,
      "outputs": []
    },
    {
      "cell_type": "markdown",
      "source": [
        "### 5.2 Evaluación con datos de prueba"
      ],
      "metadata": {
        "id": "Tpk5XH9aQg0r"
      }
    },
    {
      "cell_type": "code",
      "source": [
        "# Tu código aquí"
      ],
      "metadata": {
        "id": "lGfHlOVaxSel"
      },
      "execution_count": null,
      "outputs": []
    },
    {
      "cell_type": "markdown",
      "source": [
        "### 5.3 Validación cruzada"
      ],
      "metadata": {
        "id": "wqfXMdfQSia8"
      }
    },
    {
      "cell_type": "code",
      "source": [
        "# Tu código aquí"
      ],
      "metadata": {
        "id": "itfF_dn9xTWl"
      },
      "execution_count": null,
      "outputs": []
    }
  ]
}